{
  "nbformat": 4,
  "nbformat_minor": 0,
  "metadata": {
    "colab": {
      "provenance": [],
      "authorship_tag": "ABX9TyPS+S8LQ+U+zBF6fwd70SeU",
      "include_colab_link": true
    },
    "kernelspec": {
      "name": "python3",
      "display_name": "Python 3"
    },
    "language_info": {
      "name": "python"
    }
  },
  "cells": [
    {
      "cell_type": "markdown",
      "metadata": {
        "id": "view-in-github",
        "colab_type": "text"
      },
      "source": [
        "<a href=\"https://colab.research.google.com/github/Leonila7/BSIS2-DV-LAB3-LJPONSOY/blob/main/Untitled1.ipynb\" target=\"_parent\"><img src=\"https://colab.research.google.com/assets/colab-badge.svg\" alt=\"Open In Colab\"/></a>"
      ]
    },
    {
      "cell_type": "code",
      "execution_count": null,
      "metadata": {
        "id": "VkW-lrctwgCa"
      },
      "outputs": [],
      "source": [
        "\n",
        "Hello! Please enter your name: Sidrick\n",
        "Enter your age: 19\n",
        "Enter your weight (in kg): 50\n",
        "Enter your height (in cm): 160\n",
        "\n",
        "Sidrick, based on the information you provided:\n",
        "- Age: 19  years old\n",
        "- Weight: 50.0  kg\n",
        "- Height: 0.9411764705882353 cm\n",
        "Your BMI is: 56.45\n",
        "Your BMI falls under the category of normal weight."
      ]
    }
  ]
}