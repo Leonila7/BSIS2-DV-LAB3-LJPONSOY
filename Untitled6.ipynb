{
  "nbformat": 4,
  "nbformat_minor": 0,
  "metadata": {
    "colab": {
      "provenance": [],
      "authorship_tag": "ABX9TyNfYmp2wgjRahZa1/mq2q6C",
      "include_colab_link": true
    },
    "kernelspec": {
      "name": "python3",
      "display_name": "Python 3"
    },
    "language_info": {
      "name": "python"
    }
  },
  "cells": [
    {
      "cell_type": "markdown",
      "metadata": {
        "id": "view-in-github",
        "colab_type": "text"
      },
      "source": [
        "<a href=\"https://colab.research.google.com/github/Leonila7/BSIS2-DV-LAB3-LJPONSOY/blob/main/Untitled6.ipynb\" target=\"_parent\"><img src=\"https://colab.research.google.com/assets/colab-badge.svg\" alt=\"Open In Colab\"/></a>"
      ]
    },
    {
      "cell_type": "code",
      "execution_count": null,
      "metadata": {
        "id": "yDcHwzKvAvRF"
      },
      "outputs": [],
      "source": [
        "Hello! Please enter your name: Leonila\n",
        "Enter your age: 19\n",
        "Enter your weight (in kg): 50\n",
        "Enter your height (in cm): 160\n",
        "\n",
        "Sidrick, based on the information you provided:\n",
        "- Age: 19  years old\n",
        "- Weight: 50.0  kg\n",
        "- Height: 0.9411764705882353 cm\n",
        "Your BMI is: 56.45\n",
        "Your BMI falls under the category of normal weight."
      ]
    }
  ]
}